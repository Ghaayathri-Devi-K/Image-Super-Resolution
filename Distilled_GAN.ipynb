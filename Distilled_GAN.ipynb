{
 "cells": [
  {
   "cell_type": "code",
   "execution_count": 1,
   "metadata": {},
   "outputs": [],
   "source": [
    "import tensorflow as tf\n",
    "from tensorflow.keras.layers import Input, Dense, Reshape, Conv2D, UpSampling2D, LeakyReLU\n",
    "from tensorflow.keras.models import Model, Sequential\n",
    "from tensorflow.keras.optimizers import Adam\n",
    "import matplotlib.pyplot as plt\n",
    "import numpy as np\n",
    "import glob\n",
    "from PIL import Image\n",
    "import tensorflow.keras.backend as K"
   ]
  },
  {
   "cell_type": "code",
   "execution_count": 2,
   "metadata": {},
   "outputs": [],
   "source": [
    "def load_images(path):\n",
    "    image_files = glob.glob(path)\n",
    "    return np.array([np.array(Image.open(img_file)) for img_file in image_files])"
   ]
  },
  {
   "cell_type": "code",
   "execution_count": 3,
   "metadata": {},
   "outputs": [],
   "source": [
    "low_res_images = load_images('LR/*')\n",
    "low_res_images = low_res_images.astype('float32') / 255"
   ]
  },
  {
   "cell_type": "code",
   "execution_count": 4,
   "metadata": {},
   "outputs": [],
   "source": [
    "high_res_images1 = load_images('HR/*')\n",
    "high_res_images1 = high_res_images1.astype('float32') / 255"
   ]
  },
  {
   "cell_type": "code",
   "execution_count": 5,
   "metadata": {},
   "outputs": [],
   "source": [
    "def model():\n",
    "    SRCNN = Sequential()\n",
    "    SRCNN.add(Conv2D(filters=128, kernel_size = (9, 9), kernel_initializer='glorot_uniform',\n",
    "                     activation='relu', padding='valid', use_bias=True, input_shape=(None, None, 1)))\n",
    "    SRCNN.add(LeakyReLU(alpha=0.2))\n",
    "    SRCNN.add(Conv2D(filters=64, kernel_size = (3, 3), kernel_initializer='glorot_uniform',\n",
    "                     activation='relu', padding='same', use_bias=True))\n",
    "    SRCNN.add(LeakyReLU(alpha=0.5))\n",
    "    SRCNN.add(Conv2D(filters=1, kernel_size = (5, 5), kernel_initializer='glorot_uniform',\n",
    "                     activation='linear', padding='valid', use_bias=True))\n",
    "    adam = Adam(lr=0.003)\n",
    "    SRCNN.compile(optimizer=adam, loss='mean_squared_error', metrics=['mean_squared_error'])\n",
    "    return SRCNN"
   ]
  },
  {
   "cell_type": "code",
   "execution_count": 6,
   "metadata": {},
   "outputs": [],
   "source": [
    "def teacher_generator(low_res_image):\n",
    "    srcnn = model()\n",
    "    srcnn.load_weights('3051crop_weight_200.h5')\n",
    "    high_res_images = srcnn.predict(low_res_image, batch_size=1)\n",
    "    return high_res_images"
   ]
  },
  {
   "cell_type": "code",
   "execution_count": 7,
   "metadata": {},
   "outputs": [],
   "source": [
    "high_res_images2 = np.array([])\n",
    "for i in low_res_images:\n",
    "    h = teacher_generator(i)\n",
    "    high_res_images2.append"
   ]
  },
  {
   "cell_type": "code",
   "execution_count": 8,
   "metadata": {},
   "outputs": [],
   "source": [
    "def create_generator(loss_function):\n",
    "    model = Sequential()\n",
    "    model.add(Input(shape=(None, None, 3)))\n",
    "    model.add(UpSampling2D(size=(4,4)))\n",
    "    model.add(Conv2D(64, (9, 9), padding='same', activation='relu'))\n",
    "    model.add(Conv2D(32, (3, 3), padding='same', activation='relu'))\n",
    "    model.add(Conv2D(3, (5, 5), padding='same'))\n",
    "    model.compile(loss=loss_function, optimizer=Adam())\n",
    "    return model"
   ]
  },
  {
   "cell_type": "code",
   "execution_count": 9,
   "metadata": {},
   "outputs": [],
   "source": [
    "def create_discriminator(loss_function):\n",
    "    input_layer = Input(shape=(None, None, 3))\n",
    "    conv1 = Conv2D(64, (3, 3), strides=2, padding='same', activation='relu')(input_layer)\n",
    "    conv2 = Conv2D(128, (3, 3), strides=2, padding='same', activation='relu')(conv1)\n",
    "    conv3 = Conv2D(256, (3, 3), strides=2, padding='same', activation='relu')(conv2)\n",
    "    avg_pooling = tf.keras.layers.GlobalAveragePooling2D()(conv3)\n",
    "    dense1 = Dense(1024, activation='relu')(avg_pooling)\n",
    "    output = Dense(1, activation='sigmoid')(dense1)\n",
    "    model = Model(inputs=input_layer, outputs=output)\n",
    "    model.compile(loss=loss_function, optimizer=Adam())\n",
    "    return model"
   ]
  },
  {
   "cell_type": "code",
   "execution_count": 10,
   "metadata": {},
   "outputs": [],
   "source": [
    "def create_gan(discriminator, generator):\n",
    "    discriminator.trainable = False\n",
    "    gan_input = Input(shape=(None, None, 3))\n",
    "    x = generator(gan_input)\n",
    "    gan_output = discriminator(x)\n",
    "    model = Model(inputs=gan_input, outputs=[x, gan_output])\n",
    "    model.compile(loss=[generator.loss, discriminator.loss], loss_weights=[1., 1e-3], optimizer=Adam())\n",
    "    return model"
   ]
  },
  {
   "cell_type": "code",
   "execution_count": 11,
   "metadata": {},
   "outputs": [],
   "source": [
    "# Instantiate models\n",
    "generator = create_generator()\n",
    "discriminator = create_discriminator()\n",
    "gan = create_gan(discriminator, generator)"
   ]
  },
  {
   "cell_type": "code",
   "execution_count": 12,
   "metadata": {},
   "outputs": [],
   "source": [
    "discriminator.compile(loss='binary_crossentropy', optimizer=Adam(), metrics=['accuracy'])"
   ]
  },
  {
   "cell_type": "code",
   "execution_count": 13,
   "metadata": {},
   "outputs": [],
   "source": [
    "# Custom loss function for the discriminator\n",
    "def generator_loss(y_true1, y_true2, y_pred, alpha):\n",
    "    loss = (1-alpha)*(K.sqrt(K.mean(K.square(y_true1 - y_pred)))) + alpha*(K.sqrt(K.mean(K.square(y_true2 - y_pred))))\n",
    "    return loss"
   ]
  },
  {
   "cell_type": "code",
   "execution_count": 14,
   "metadata": {},
   "outputs": [],
   "source": [
    "# Custom loss function for the generator\n",
    "def discriminator_loss(y_true, y_pred):\n",
    "    return K.sqrt(K.mean(K.square(y_true - y_pred)))"
   ]
  },
  {
   "cell_type": "code",
   "execution_count": 15,
   "metadata": {},
   "outputs": [],
   "source": [
    "generator = create_generator(generator_loss)\n",
    "discriminator = create_discriminator(discriminator_loss)\n",
    "gan = create_gan(discriminator, generator)"
   ]
  },
  {
   "cell_type": "code",
   "execution_count": 16,
   "metadata": {},
   "outputs": [],
   "source": [
    "epochs = 100\n",
    "gen_losses = []\n",
    "disc_losses = []"
   ]
  },
  {
   "cell_type": "code",
   "execution_count": 13,
   "metadata": {},
   "outputs": [
    {
     "name": "stdout",
     "output_type": "stream",
     "text": [
      "Epoch 0\n",
      "4/4 [==============================] - 4s 917ms/step\n",
      "Epoch 1\n",
      "4/4 [==============================] - 19s 4s/step\n",
      "Epoch 2\n",
      "4/4 [==============================] - 16s 3s/step\n",
      "Epoch 3\n",
      "4/4 [==============================] - 15s 3s/step\n",
      "Epoch 4\n",
      "4/4 [==============================] - 15s 3s/step\n",
      "Epoch 5\n",
      "4/4 [==============================] - 15s 3s/step\n",
      "Epoch 6\n",
      "4/4 [==============================] - 15s 3s/step\n",
      "Epoch 7\n",
      "4/4 [==============================] - 15s 3s/step\n",
      "Epoch 8\n",
      "4/4 [==============================] - 16s 3s/step\n",
      "Epoch 9\n",
      "4/4 [==============================] - 4s 835ms/step\n",
      "Epoch 10\n",
      "4/4 [==============================] - 4s 774ms/step\n",
      "Epoch 11\n",
      "4/4 [==============================] - 4s 783ms/step\n",
      "Epoch 12\n",
      "4/4 [==============================] - 4s 864ms/step\n",
      "Epoch 13\n",
      "4/4 [==============================] - 18s 4s/step\n",
      "Epoch 14\n",
      "4/4 [==============================] - 19s 4s/step\n",
      "Epoch 15\n",
      "4/4 [==============================] - 18s 4s/step\n",
      "Epoch 16\n",
      "4/4 [==============================] - 15s 3s/step\n",
      "Epoch 17\n",
      "4/4 [==============================] - 17s 4s/step\n",
      "Epoch 18\n",
      "4/4 [==============================] - 18s 4s/step\n",
      "Epoch 19\n",
      "4/4 [==============================] - 4s 790ms/step\n",
      "Epoch 20\n",
      "4/4 [==============================] - 4s 874ms/step\n",
      "Epoch 21\n",
      "4/4 [==============================] - 4s 788ms/step\n",
      "Epoch 22\n",
      "4/4 [==============================] - 17s 4s/step\n",
      "Epoch 23\n",
      "4/4 [==============================] - 17s 4s/step\n",
      "Epoch 24\n",
      "4/4 [==============================] - 16s 3s/step\n",
      "Epoch 25\n",
      "4/4 [==============================] - 15s 3s/step\n",
      "Epoch 26\n",
      "4/4 [==============================] - 17s 4s/step\n",
      "Epoch 27\n",
      "4/4 [==============================] - 17s 4s/step\n",
      "Epoch 28\n",
      "4/4 [==============================] - 15s 3s/step\n",
      "Epoch 29\n",
      "4/4 [==============================] - 4s 794ms/step\n",
      "Epoch 30\n",
      "4/4 [==============================] - 6s 1s/step\n",
      "Epoch 31\n",
      "4/4 [==============================] - 5s 1s/step\n",
      "Epoch 32\n",
      "4/4 [==============================] - 6s 1s/step\n",
      "Epoch 33\n",
      "4/4 [==============================] - 15s 3s/step\n",
      "Epoch 34\n",
      "4/4 [==============================] - 15s 3s/step\n",
      "Epoch 35\n",
      "4/4 [==============================] - 15s 3s/step\n",
      "Epoch 36\n",
      "4/4 [==============================] - 15s 3s/step\n",
      "Epoch 37\n",
      "4/4 [==============================] - 15s 3s/step\n",
      "Epoch 38\n",
      "4/4 [==============================] - 6s 2s/step\n",
      "Epoch 39\n",
      "4/4 [==============================] - 7s 2s/step\n",
      "Epoch 40\n",
      "4/4 [==============================] - 7s 2s/step\n",
      "Epoch 41\n",
      "4/4 [==============================] - 7s 2s/step\n",
      "Epoch 42\n",
      "4/4 [==============================] - 7s 2s/step\n",
      "Epoch 43\n",
      "4/4 [==============================] - 7s 2s/step\n",
      "Epoch 44\n",
      "4/4 [==============================] - 7s 2s/step\n",
      "Epoch 45\n",
      "4/4 [==============================] - 7s 2s/step\n",
      "Epoch 46\n",
      "4/4 [==============================] - 7s 2s/step\n",
      "Epoch 47\n",
      "4/4 [==============================] - 7s 2s/step\n",
      "Epoch 48\n",
      "4/4 [==============================] - 7s 2s/step\n",
      "Epoch 49\n",
      "4/4 [==============================] - 7s 2s/step\n",
      "Epoch 50\n",
      "4/4 [==============================] - 7s 2s/step\n",
      "Epoch 51\n",
      "4/4 [==============================] - 7s 2s/step\n",
      "Epoch 52\n",
      "4/4 [==============================] - 7s 2s/step\n",
      "Epoch 53\n",
      "4/4 [==============================] - 7s 2s/step\n",
      "Epoch 54\n",
      "4/4 [==============================] - 3s 640ms/step\n",
      "Epoch 55\n",
      "4/4 [==============================] - 3s 655ms/step\n",
      "Epoch 56\n",
      "4/4 [==============================] - 3s 674ms/step\n",
      "Epoch 57\n",
      "4/4 [==============================] - 3s 656ms/step\n",
      "Epoch 58\n",
      "4/4 [==============================] - 3s 656ms/step\n",
      "Epoch 59\n",
      "4/4 [==============================] - 3s 651ms/step\n",
      "Epoch 60\n",
      "4/4 [==============================] - 3s 648ms/step\n",
      "Epoch 61\n",
      "4/4 [==============================] - 3s 695ms/step\n",
      "Epoch 62\n",
      "4/4 [==============================] - 4s 794ms/step\n",
      "Epoch 63\n",
      "4/4 [==============================] - 7s 2s/step\n",
      "Epoch 64\n",
      "4/4 [==============================] - 7s 2s/step\n",
      "Epoch 65\n",
      "4/4 [==============================] - 3s 658ms/step\n",
      "Epoch 66\n",
      "4/4 [==============================] - 3s 655ms/step\n",
      "Epoch 67\n",
      "4/4 [==============================] - 3s 716ms/step\n",
      "Epoch 68\n",
      "4/4 [==============================] - 4s 864ms/step\n",
      "Epoch 69\n",
      "4/4 [==============================] - 7s 2s/step\n",
      "Epoch 70\n",
      "4/4 [==============================] - 7s 2s/step\n",
      "Epoch 71\n",
      "4/4 [==============================] - 3s 689ms/step\n",
      "Epoch 72\n",
      "4/4 [==============================] - 5s 1s/step\n",
      "Epoch 73\n",
      "4/4 [==============================] - 3s 636ms/step\n",
      "Epoch 74\n",
      "4/4 [==============================] - 7s 2s/step\n",
      "Epoch 75\n",
      "4/4 [==============================] - 7s 1s/step\n",
      "Epoch 76\n",
      "4/4 [==============================] - 3s 652ms/step\n",
      "Epoch 77\n",
      "4/4 [==============================] - 3s 645ms/step\n",
      "Epoch 78\n",
      "4/4 [==============================] - 7s 2s/step\n",
      "Epoch 79\n",
      "4/4 [==============================] - 7s 2s/step\n",
      "Epoch 80\n",
      "4/4 [==============================] - 3s 647ms/step\n",
      "Epoch 81\n",
      "4/4 [==============================] - 3s 655ms/step\n",
      "Epoch 82\n",
      "4/4 [==============================] - 3s 656ms/step\n",
      "Epoch 83\n",
      "4/4 [==============================] - 3s 644ms/step\n",
      "Epoch 84\n",
      "4/4 [==============================] - 3s 649ms/step\n",
      "Epoch 85\n",
      "4/4 [==============================] - 3s 645ms/step\n",
      "Epoch 86\n",
      "4/4 [==============================] - 7s 2s/step\n",
      "Epoch 87\n",
      "4/4 [==============================] - 3s 645ms/step\n",
      "Epoch 88\n",
      "4/4 [==============================] - 3s 709ms/step\n",
      "Epoch 89\n",
      "4/4 [==============================] - 3s 626ms/step\n",
      "Epoch 90\n",
      "4/4 [==============================] - 7s 2s/step\n",
      "Epoch 91\n",
      "4/4 [==============================] - 7s 1s/step\n",
      "Epoch 92\n",
      "4/4 [==============================] - 6s 2s/step\n",
      "Epoch 93\n",
      "4/4 [==============================] - 3s 646ms/step\n",
      "Epoch 94\n",
      "4/4 [==============================] - 3s 654ms/step\n",
      "Epoch 95\n",
      "4/4 [==============================] - 3s 714ms/step\n",
      "Epoch 96\n",
      "4/4 [==============================] - 3s 650ms/step\n",
      "Epoch 97\n",
      "4/4 [==============================] - 3s 654ms/step\n",
      "Epoch 98\n",
      "4/4 [==============================] - 3s 645ms/step\n",
      "Epoch 99\n",
      "4/4 [==============================] - 3s 649ms/step\n"
     ]
    }
   ],
   "source": [
    "for e in range(epochs):\n",
    "    print(f\"Epoch {e}\")\n",
    "\n",
    "    # Train discriminator\n",
    "    gen_images = generator.predict(low_res_images)\n",
    "    real = np.ones((high_res_images1.shape[0], 1))\n",
    "    fake = np.zeros((gen_images.shape[0], 1))\n",
    "    d_loss_real = discriminator.train_on_batch(high_res_images1, real)\n",
    "    d_loss_fake = discriminator.train_on_batch(gen_images, fake)\n",
    "    d_loss = 0.5 * np.add(d_loss_real, d_loss_fake)\n",
    "    disc_losses.append(d_loss[0])\n",
    "    \n",
    "    # Train generator\n",
    "    gan_input = low_res_images\n",
    "    gan_target = [high_res_images2, np.ones((high_res_images2.shape[0], 1))]\n",
    "    g_loss = gan.train_on_batch(gan_input, gan_target)\n",
    "    gen_losses.append(g_loss[0])"
   ]
  },
  {
   "cell_type": "code",
   "execution_count": 17,
   "metadata": {},
   "outputs": [
    {
     "data": {
      "image/png": "[encoded data removed]",
      "text/plain": [
       "<Figure size 1000x500 with 1 Axes>"
      ]
     },
     "metadata": {},
     "output_type": "display_data"
    }
   ],
   "source": [
    "plt.figure(figsize=(10,5))\n",
    "plt.plot(gen_losses, label='generator loss')\n",
    "plt.plot(disc_losses, label='discriminator loss')\n",
    "plt.title(\"Training Losses\")\n",
    "plt.xlabel(\"Epoch\")\n",
    "plt.ylabel(\"Loss\")\n",
    "plt.legend()\n",
    "plt.show()"
   ]
  }
 ],
 "metadata": {
  "kernelspec": {
   "display_name": "base",
   "language": "python",
   "name": "python3"
  },
  "language_info": {
   "codemirror_mode": {
    "name": "ipython",
    "version": 3
   },
   "file_extension": ".py",
   "mimetype": "text/x-python",
   "name": "python",
   "nbconvert_exporter": "python",
   "pygments_lexer": "ipython3",
   "version": "3.9.13"
  },
  "orig_nbformat": 4
 },
 "nbformat": 4,
 "nbformat_minor": 2
}
